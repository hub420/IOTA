{
  "nbformat": 4,
  "nbformat_minor": 0,
  "metadata": {
    "colab": {
      "name": "Purpple.ipynb",
      "provenance": [],
      "authorship_tag": "ABX9TyPmzu9iR6Vtu8bRsZRYh7a2",
      "include_colab_link": true
    },
    "kernelspec": {
      "name": "python3",
      "display_name": "Python 3"
    },
    "language_info": {
      "name": "python"
    }
  },
  "cells": [
    {
      "cell_type": "markdown",
      "metadata": {
        "id": "view-in-github",
        "colab_type": "text"
      },
      "source": [
        "<a href=\"https://colab.research.google.com/github/hub420/IOTA/blob/main/Purpple.ipynb\" target=\"_parent\"><img src=\"https://colab.research.google.com/assets/colab-badge.svg\" alt=\"Open In Colab\"/></a>"
      ]
    },
    {
      "cell_type": "code",
      "execution_count": null,
      "metadata": {
        "id": "16GtOEwP05yo"
      },
      "outputs": [],
      "source": [
        ""
      ]
    },
    {
      "cell_type": "markdown",
      "source": [
        "# Install Pyota\n",
        "Run every time "
      ],
      "metadata": {
        "id": "D7dgGgYi3RAW"
      }
    },
    {
      "cell_type": "code",
      "source": [
        "pip install pyota"
      ],
      "metadata": {
        "colab": {
          "base_uri": "https://localhost:8080/"
        },
        "id": "PGZJm6X44ExW",
        "outputId": "14b11014-7b4f-4f71-fb0a-09b91f462ca3"
      },
      "execution_count": null,
      "outputs": [
        {
          "output_type": "stream",
          "name": "stdout",
          "text": [
            "Looking in indexes: https://pypi.org/simple, https://us-python.pkg.dev/colab-wheels/public/simple/\n",
            "Collecting pyota\n",
            "  Downloading PyOTA-2.1.0-py2.py3-none-any.whl (113 kB)\n",
            "\u001b[K     |████████████████████████████████| 113 kB 14.6 MB/s \n",
            "\u001b[?25hRequirement already satisfied: six in /usr/local/lib/python3.7/dist-packages (from pyota) (1.15.0)\n",
            "Collecting pysha3\n",
            "  Downloading pysha3-1.0.2.tar.gz (829 kB)\n",
            "\u001b[K     |████████████████████████████████| 829 kB 51.5 MB/s \n",
            "\u001b[?25hRequirement already satisfied: requests[security]>=2.4.1 in /usr/local/lib/python3.7/dist-packages (from pyota) (2.23.0)\n",
            "Collecting phx-filters\n",
            "  Downloading phx_filters-2.0.2-py3-none-any.whl (35 kB)\n",
            "Requirement already satisfied: urllib3!=1.25.0,!=1.25.1,<1.26,>=1.21.1 in /usr/local/lib/python3.7/dist-packages (from requests[security]>=2.4.1->pyota) (1.24.3)\n",
            "Requirement already satisfied: certifi>=2017.4.17 in /usr/local/lib/python3.7/dist-packages (from requests[security]>=2.4.1->pyota) (2022.6.15)\n",
            "Requirement already satisfied: chardet<4,>=3.0.2 in /usr/local/lib/python3.7/dist-packages (from requests[security]>=2.4.1->pyota) (3.0.4)\n",
            "Requirement already satisfied: idna<3,>=2.5 in /usr/local/lib/python3.7/dist-packages (from requests[security]>=2.4.1->pyota) (2.10)\n",
            "Collecting pyOpenSSL>=0.14\n",
            "  Downloading pyOpenSSL-22.0.0-py2.py3-none-any.whl (55 kB)\n",
            "\u001b[K     |████████████████████████████████| 55 kB 4.1 MB/s \n",
            "\u001b[?25hCollecting cryptography>=1.3.4\n",
            "  Downloading cryptography-37.0.4-cp36-abi3-manylinux_2_24_x86_64.whl (4.1 MB)\n",
            "\u001b[K     |████████████████████████████████| 4.1 MB 45.9 MB/s \n",
            "\u001b[?25hRequirement already satisfied: cffi>=1.12 in /usr/local/lib/python3.7/dist-packages (from cryptography>=1.3.4->requests[security]>=2.4.1->pyota) (1.15.0)\n",
            "Requirement already satisfied: pycparser in /usr/local/lib/python3.7/dist-packages (from cffi>=1.12->cryptography>=1.3.4->requests[security]>=2.4.1->pyota) (2.21)\n",
            "Requirement already satisfied: python-dateutil in /usr/local/lib/python3.7/dist-packages (from phx-filters->pyota) (2.8.2)\n",
            "Requirement already satisfied: regex>=2018.8.17 in /usr/local/lib/python3.7/dist-packages (from phx-filters->pyota) (2022.6.2)\n",
            "Requirement already satisfied: pytz in /usr/local/lib/python3.7/dist-packages (from phx-filters->pyota) (2022.1)\n",
            "Collecting phx-class-registry\n",
            "  Downloading phx_class_registry-3.0.5-py3-none-any.whl (11 kB)\n",
            "Building wheels for collected packages: pysha3\n",
            "  Building wheel for pysha3 (setup.py) ... \u001b[?25l\u001b[?25hdone\n",
            "  Created wheel for pysha3: filename=pysha3-1.0.2-cp37-cp37m-linux_x86_64.whl size=133591 sha256=e3de6cef9ef65452154c3ef59f905981a968610853cd11c57de173a127e924cf\n",
            "  Stored in directory: /root/.cache/pip/wheels/0d/9e/bc/789fa0986c1fef30cafcc29da4dd07bc17ecba3fab78e27ed6\n",
            "Successfully built pysha3\n",
            "Installing collected packages: cryptography, pyOpenSSL, phx-class-registry, pysha3, phx-filters, pyota\n",
            "Successfully installed cryptography-37.0.4 phx-class-registry-3.0.5 phx-filters-2.0.2 pyOpenSSL-22.0.0 pyota-2.1.0 pysha3-1.0.2\n"
          ]
        }
      ]
    }
  ]
}